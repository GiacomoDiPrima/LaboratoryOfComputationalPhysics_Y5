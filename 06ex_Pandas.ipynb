{
 "cells": [
  {
   "cell_type": "markdown",
   "metadata": {},
   "source": [
    "## Pandas analysis\n",
    "\n",
    "This exercise consists in analyzing a dataset containg timing information from a series of Time-to-Digital-Converters (TDC) implemented in a couple of FPGAs. Each measurement (i.e. each row of the input file) consists of a flag that specifies the type of message ('HEAD', which in this case is always 1), two addresses of the TDC providing the signal ('FPGA' and 'TDC_CHANNEL'), and the timing information ('ORBIT_CNT', 'BX_COUNTER', and 'TDC_MEAS'). Each TDC count corresponds to 25/30 ns, whereas a unit of BX_COUNTER corresponds to 25 ns, and the ORBIT_CNT is increased every 'x' BX_COUNTER. This allows to store the time in a similar way to hours, minutes and seconds."
   ]
  },
  {
   "cell_type": "code",
   "execution_count": 1,
   "metadata": {},
   "outputs": [
    {
     "name": "stdout",
     "output_type": "stream",
     "text": [
      "--2022-11-30 10:41:34--  https://www.dropbox.com/s/xvjzaxzz3ysphme/data_000637.txt\n",
      "Risoluzione di www.dropbox.com (www.dropbox.com)... 162.125.69.18, 2620:100:6025:18::a27d:4512\n",
      "Connessione a www.dropbox.com (www.dropbox.com)|162.125.69.18|:443... connesso.\n",
      "Richiesta HTTP inviata, in attesa di risposta... 302 Found\n",
      "Posizione: /s/raw/xvjzaxzz3ysphme/data_000637.txt [segue]\n",
      "--2022-11-30 10:41:35--  https://www.dropbox.com/s/raw/xvjzaxzz3ysphme/data_000637.txt\n",
      "Riutilizzo della connessione esistente a www.dropbox.com:443.\n",
      "Richiesta HTTP inviata, in attesa di risposta... 302 Found\n",
      "Posizione: https://uc3c275faac41d848f979d68770c.dl.dropboxusercontent.com/cd/0/inline/BxsBnCpCCDOJjz7Hqh7boR_MmrPFVXSdF-qxML_FeZjcnhr0S-iAKqtDq2k-ZLDwKXoV2MOzY-Ype-Q7-IU-gRw9N5dgkMMUneEX0x-9xm_0Lz_9uHaQs0JkAY1dzc4MmizJaGKQBp8bYAoJn5J_Uqt0mhSLuRq6fIper8bE9kbsiw/file# [segue]\n",
      "--2022-11-30 10:41:36--  https://uc3c275faac41d848f979d68770c.dl.dropboxusercontent.com/cd/0/inline/BxsBnCpCCDOJjz7Hqh7boR_MmrPFVXSdF-qxML_FeZjcnhr0S-iAKqtDq2k-ZLDwKXoV2MOzY-Ype-Q7-IU-gRw9N5dgkMMUneEX0x-9xm_0Lz_9uHaQs0JkAY1dzc4MmizJaGKQBp8bYAoJn5J_Uqt0mhSLuRq6fIper8bE9kbsiw/file\n",
      "Risoluzione di uc3c275faac41d848f979d68770c.dl.dropboxusercontent.com (uc3c275faac41d848f979d68770c.dl.dropboxusercontent.com)... 162.125.69.15, 2620:100:6025:15::a27d:450f\n",
      "Connessione a uc3c275faac41d848f979d68770c.dl.dropboxusercontent.com (uc3c275faac41d848f979d68770c.dl.dropboxusercontent.com)|162.125.69.15|:443... connesso.\n",
      "Richiesta HTTP inviata, in attesa di risposta... 200 OK\n",
      "Lunghezza: 33179236 (32M) [text/plain]\n",
      "Salvataggio in: ‘/home/utente/data/data_000637.txt’\n",
      "\n",
      "data_000637.txt     100%[===================>]  31,64M  1,41MB/s    in 28s     \n",
      "\n",
      "2022-11-30 10:42:06 (1,12 MB/s) - ‘/home/utente/data/data_000637.txt’ salvato [33179236/33179236]\n",
      "\n"
     ]
    }
   ],
   "source": [
    "# If you didn't download it yet, please get the relevant file now!\n",
    "!wget https://www.dropbox.com/s/xvjzaxzz3ysphme/data_000637.txt -P ~/data/"
   ]
  },
  {
   "cell_type": "code",
   "execution_count": 1,
   "metadata": {},
   "outputs": [],
   "source": [
    "import pandas as pd\n",
    "import numpy as np"
   ]
  },
  {
   "cell_type": "markdown",
   "metadata": {},
   "source": [
    "1\\. Create a Pandas DataFrame reading N rows of the 'data_000637.txt' dataset. Choose N to be smaller than or equal to the maximum number of rows and larger that 10k."
   ]
  },
  {
   "cell_type": "code",
   "execution_count": 2,
   "metadata": {},
   "outputs": [
    {
     "data": {
      "text/html": [
       "<div>\n",
       "<style scoped>\n",
       "    .dataframe tbody tr th:only-of-type {\n",
       "        vertical-align: middle;\n",
       "    }\n",
       "\n",
       "    .dataframe tbody tr th {\n",
       "        vertical-align: top;\n",
       "    }\n",
       "\n",
       "    .dataframe thead th {\n",
       "        text-align: right;\n",
       "    }\n",
       "</style>\n",
       "<table border=\"1\" class=\"dataframe\">\n",
       "  <thead>\n",
       "    <tr style=\"text-align: right;\">\n",
       "      <th></th>\n",
       "      <th>HEAD</th>\n",
       "      <th>FPGA</th>\n",
       "      <th>TDC_CHANNEL</th>\n",
       "      <th>ORBIT_CNT</th>\n",
       "      <th>BX_COUNTER</th>\n",
       "      <th>TDC_MEAS</th>\n",
       "    </tr>\n",
       "  </thead>\n",
       "  <tbody>\n",
       "    <tr>\n",
       "      <th>count</th>\n",
       "      <td>1310720.0</td>\n",
       "      <td>1.310720e+06</td>\n",
       "      <td>1.310720e+06</td>\n",
       "      <td>1.310720e+06</td>\n",
       "      <td>1.310720e+06</td>\n",
       "      <td>1.310720e+06</td>\n",
       "    </tr>\n",
       "    <tr>\n",
       "      <th>mean</th>\n",
       "      <td>1.0</td>\n",
       "      <td>2.959198e-01</td>\n",
       "      <td>5.582570e+01</td>\n",
       "      <td>3.869206e+09</td>\n",
       "      <td>1.781096e+03</td>\n",
       "      <td>1.332340e+01</td>\n",
       "    </tr>\n",
       "    <tr>\n",
       "      <th>std</th>\n",
       "      <td>0.0</td>\n",
       "      <td>4.564553e-01</td>\n",
       "      <td>3.901034e+01</td>\n",
       "      <td>3.183124e+03</td>\n",
       "      <td>1.027795e+03</td>\n",
       "      <td>9.199886e+00</td>\n",
       "    </tr>\n",
       "    <tr>\n",
       "      <th>min</th>\n",
       "      <td>1.0</td>\n",
       "      <td>0.000000e+00</td>\n",
       "      <td>1.000000e+00</td>\n",
       "      <td>3.869200e+09</td>\n",
       "      <td>0.000000e+00</td>\n",
       "      <td>0.000000e+00</td>\n",
       "    </tr>\n",
       "    <tr>\n",
       "      <th>25%</th>\n",
       "      <td>1.0</td>\n",
       "      <td>0.000000e+00</td>\n",
       "      <td>2.600000e+01</td>\n",
       "      <td>3.869203e+09</td>\n",
       "      <td>8.930000e+02</td>\n",
       "      <td>5.000000e+00</td>\n",
       "    </tr>\n",
       "    <tr>\n",
       "      <th>50%</th>\n",
       "      <td>1.0</td>\n",
       "      <td>0.000000e+00</td>\n",
       "      <td>5.700000e+01</td>\n",
       "      <td>3.869207e+09</td>\n",
       "      <td>1.778000e+03</td>\n",
       "      <td>1.300000e+01</td>\n",
       "    </tr>\n",
       "    <tr>\n",
       "      <th>75%</th>\n",
       "      <td>1.0</td>\n",
       "      <td>1.000000e+00</td>\n",
       "      <td>6.400000e+01</td>\n",
       "      <td>3.869209e+09</td>\n",
       "      <td>2.670000e+03</td>\n",
       "      <td>2.100000e+01</td>\n",
       "    </tr>\n",
       "    <tr>\n",
       "      <th>max</th>\n",
       "      <td>1.0</td>\n",
       "      <td>1.000000e+00</td>\n",
       "      <td>1.390000e+02</td>\n",
       "      <td>3.869211e+09</td>\n",
       "      <td>3.563000e+03</td>\n",
       "      <td>2.900000e+01</td>\n",
       "    </tr>\n",
       "  </tbody>\n",
       "</table>\n",
       "</div>"
      ],
      "text/plain": [
       "            HEAD          FPGA   TDC_CHANNEL     ORBIT_CNT    BX_COUNTER  \\\n",
       "count  1310720.0  1.310720e+06  1.310720e+06  1.310720e+06  1.310720e+06   \n",
       "mean         1.0  2.959198e-01  5.582570e+01  3.869206e+09  1.781096e+03   \n",
       "std          0.0  4.564553e-01  3.901034e+01  3.183124e+03  1.027795e+03   \n",
       "min          1.0  0.000000e+00  1.000000e+00  3.869200e+09  0.000000e+00   \n",
       "25%          1.0  0.000000e+00  2.600000e+01  3.869203e+09  8.930000e+02   \n",
       "50%          1.0  0.000000e+00  5.700000e+01  3.869207e+09  1.778000e+03   \n",
       "75%          1.0  1.000000e+00  6.400000e+01  3.869209e+09  2.670000e+03   \n",
       "max          1.0  1.000000e+00  1.390000e+02  3.869211e+09  3.563000e+03   \n",
       "\n",
       "           TDC_MEAS  \n",
       "count  1.310720e+06  \n",
       "mean   1.332340e+01  \n",
       "std    9.199886e+00  \n",
       "min    0.000000e+00  \n",
       "25%    5.000000e+00  \n",
       "50%    1.300000e+01  \n",
       "75%    2.100000e+01  \n",
       "max    2.900000e+01  "
      ]
     },
     "execution_count": 2,
     "metadata": {},
     "output_type": "execute_result"
    }
   ],
   "source": [
    "N=1310720\n",
    "df = pd.read_csv('~/data/data_000637.txt', nrows=N)\n",
    "df.describe()"
   ]
  },
  {
   "cell_type": "code",
   "execution_count": 3,
   "metadata": {},
   "outputs": [
    {
     "data": {
      "text/html": [
       "<div>\n",
       "<style scoped>\n",
       "    .dataframe tbody tr th:only-of-type {\n",
       "        vertical-align: middle;\n",
       "    }\n",
       "\n",
       "    .dataframe tbody tr th {\n",
       "        vertical-align: top;\n",
       "    }\n",
       "\n",
       "    .dataframe thead th {\n",
       "        text-align: right;\n",
       "    }\n",
       "</style>\n",
       "<table border=\"1\" class=\"dataframe\">\n",
       "  <thead>\n",
       "    <tr style=\"text-align: right;\">\n",
       "      <th></th>\n",
       "      <th>HEAD</th>\n",
       "      <th>FPGA</th>\n",
       "      <th>TDC_CHANNEL</th>\n",
       "      <th>ORBIT_CNT</th>\n",
       "      <th>BX_COUNTER</th>\n",
       "      <th>TDC_MEAS</th>\n",
       "    </tr>\n",
       "  </thead>\n",
       "  <tbody>\n",
       "    <tr>\n",
       "      <th>0</th>\n",
       "      <td>1</td>\n",
       "      <td>0</td>\n",
       "      <td>123</td>\n",
       "      <td>3869200167</td>\n",
       "      <td>2374</td>\n",
       "      <td>26</td>\n",
       "    </tr>\n",
       "    <tr>\n",
       "      <th>1</th>\n",
       "      <td>1</td>\n",
       "      <td>0</td>\n",
       "      <td>124</td>\n",
       "      <td>3869200167</td>\n",
       "      <td>2374</td>\n",
       "      <td>27</td>\n",
       "    </tr>\n",
       "    <tr>\n",
       "      <th>2</th>\n",
       "      <td>1</td>\n",
       "      <td>0</td>\n",
       "      <td>63</td>\n",
       "      <td>3869200167</td>\n",
       "      <td>2553</td>\n",
       "      <td>28</td>\n",
       "    </tr>\n",
       "    <tr>\n",
       "      <th>3</th>\n",
       "      <td>1</td>\n",
       "      <td>0</td>\n",
       "      <td>64</td>\n",
       "      <td>3869200167</td>\n",
       "      <td>2558</td>\n",
       "      <td>19</td>\n",
       "    </tr>\n",
       "    <tr>\n",
       "      <th>4</th>\n",
       "      <td>1</td>\n",
       "      <td>0</td>\n",
       "      <td>64</td>\n",
       "      <td>3869200167</td>\n",
       "      <td>2760</td>\n",
       "      <td>25</td>\n",
       "    </tr>\n",
       "    <tr>\n",
       "      <th>5</th>\n",
       "      <td>1</td>\n",
       "      <td>0</td>\n",
       "      <td>63</td>\n",
       "      <td>3869200167</td>\n",
       "      <td>2762</td>\n",
       "      <td>4</td>\n",
       "    </tr>\n",
       "    <tr>\n",
       "      <th>6</th>\n",
       "      <td>1</td>\n",
       "      <td>0</td>\n",
       "      <td>61</td>\n",
       "      <td>3869200167</td>\n",
       "      <td>2772</td>\n",
       "      <td>14</td>\n",
       "    </tr>\n",
       "    <tr>\n",
       "      <th>7</th>\n",
       "      <td>1</td>\n",
       "      <td>0</td>\n",
       "      <td>139</td>\n",
       "      <td>3869200167</td>\n",
       "      <td>2776</td>\n",
       "      <td>0</td>\n",
       "    </tr>\n",
       "    <tr>\n",
       "      <th>8</th>\n",
       "      <td>1</td>\n",
       "      <td>0</td>\n",
       "      <td>62</td>\n",
       "      <td>3869200167</td>\n",
       "      <td>2774</td>\n",
       "      <td>21</td>\n",
       "    </tr>\n",
       "    <tr>\n",
       "      <th>9</th>\n",
       "      <td>1</td>\n",
       "      <td>0</td>\n",
       "      <td>60</td>\n",
       "      <td>3869200167</td>\n",
       "      <td>2788</td>\n",
       "      <td>7</td>\n",
       "    </tr>\n",
       "    <tr>\n",
       "      <th>10</th>\n",
       "      <td>1</td>\n",
       "      <td>1</td>\n",
       "      <td>7</td>\n",
       "      <td>3869200167</td>\n",
       "      <td>2785</td>\n",
       "      <td>4</td>\n",
       "    </tr>\n",
       "    <tr>\n",
       "      <th>11</th>\n",
       "      <td>1</td>\n",
       "      <td>0</td>\n",
       "      <td>64</td>\n",
       "      <td>3869200167</td>\n",
       "      <td>2786</td>\n",
       "      <td>19</td>\n",
       "    </tr>\n",
       "    <tr>\n",
       "      <th>12</th>\n",
       "      <td>1</td>\n",
       "      <td>1</td>\n",
       "      <td>6</td>\n",
       "      <td>3869200167</td>\n",
       "      <td>2792</td>\n",
       "      <td>18</td>\n",
       "    </tr>\n",
       "    <tr>\n",
       "      <th>13</th>\n",
       "      <td>1</td>\n",
       "      <td>0</td>\n",
       "      <td>36</td>\n",
       "      <td>3869200167</td>\n",
       "      <td>2791</td>\n",
       "      <td>23</td>\n",
       "    </tr>\n",
       "    <tr>\n",
       "      <th>14</th>\n",
       "      <td>1</td>\n",
       "      <td>0</td>\n",
       "      <td>56</td>\n",
       "      <td>3869200167</td>\n",
       "      <td>2789</td>\n",
       "      <td>3</td>\n",
       "    </tr>\n",
       "  </tbody>\n",
       "</table>\n",
       "</div>"
      ],
      "text/plain": [
       "    HEAD  FPGA  TDC_CHANNEL   ORBIT_CNT  BX_COUNTER  TDC_MEAS\n",
       "0      1     0          123  3869200167        2374        26\n",
       "1      1     0          124  3869200167        2374        27\n",
       "2      1     0           63  3869200167        2553        28\n",
       "3      1     0           64  3869200167        2558        19\n",
       "4      1     0           64  3869200167        2760        25\n",
       "5      1     0           63  3869200167        2762         4\n",
       "6      1     0           61  3869200167        2772        14\n",
       "7      1     0          139  3869200167        2776         0\n",
       "8      1     0           62  3869200167        2774        21\n",
       "9      1     0           60  3869200167        2788         7\n",
       "10     1     1            7  3869200167        2785         4\n",
       "11     1     0           64  3869200167        2786        19\n",
       "12     1     1            6  3869200167        2792        18\n",
       "13     1     0           36  3869200167        2791        23\n",
       "14     1     0           56  3869200167        2789         3"
      ]
     },
     "execution_count": 3,
     "metadata": {},
     "output_type": "execute_result"
    }
   ],
   "source": [
    "df.head(15)"
   ]
  },
  {
   "cell_type": "markdown",
   "metadata": {},
   "source": [
    "2\\. Find out the number of BX in a ORBIT (the value 'x')."
   ]
  },
  {
   "cell_type": "markdown",
   "metadata": {},
   "source": [
    "We know that 30 TDC_MEAS = 1 BX_COUNTER, we want to know the conversion between ORBIT and BX. Statistically we would assume that over the milion entries of the data set the maximum value for BX_COUNTER would occur at least once. So, taking the maximum value for BX +1 it's a safe bet"
   ]
  },
  {
   "cell_type": "code",
   "execution_count": 4,
   "metadata": {},
   "outputs": [
    {
     "name": "stdout",
     "output_type": "stream",
     "text": [
      "3564\n"
     ]
    }
   ],
   "source": [
    "x = df.BX_COUNTER.max() + 1\n",
    "print(x)"
   ]
  },
  {
   "cell_type": "markdown",
   "metadata": {},
   "source": [
    "3\\. Find out how much the data taking lasted. You can either make an estimate based on the fraction of the measurements (rows) you read, or perform this check precisely by reading out the whole dataset."
   ]
  },
  {
   "cell_type": "markdown",
   "metadata": {},
   "source": [
    "4\\. Create a new column with the absolute time in ns (as a combination of the other three columns with timing information)."
   ]
  },
  {
   "cell_type": "markdown",
   "metadata": {},
   "source": [
    "Coverting the counting in nanoseconds, calculating the difference between the maximum and minimum values"
   ]
  },
  {
   "cell_type": "code",
   "execution_count": 16,
   "metadata": {},
   "outputs": [
    {
     "name": "stdout",
     "output_type": "stream",
     "text": [
      "0.9804162533125 sec\n"
     ]
    }
   ],
   "source": [
    "df['TIME'] = df.TDC_MEAS*25/30 + df.BX_COUNTER*25 + df.ORBIT_CNT*x*25\n",
    "time_mes = (df.TIME.max() - df.TIME.min())*10**(-9)\n",
    "print(time_mes, 'sec')"
   ]
  },
  {
   "cell_type": "code",
   "execution_count": 6,
   "metadata": {},
   "outputs": [
    {
     "data": {
      "text/plain": [
       "1310720"
      ]
     },
     "execution_count": 6,
     "metadata": {},
     "output_type": "execute_result"
    }
   ],
   "source": [
    "len(df.HEAD)"
   ]
  },
  {
   "cell_type": "markdown",
   "metadata": {},
   "source": [
    "5\\. Replace the values (all 1) of the HEAD column randomly with 0 or 1."
   ]
  },
  {
   "cell_type": "code",
   "execution_count": 7,
   "metadata": {},
   "outputs": [
    {
     "data": {
      "text/html": [
       "<div>\n",
       "<style scoped>\n",
       "    .dataframe tbody tr th:only-of-type {\n",
       "        vertical-align: middle;\n",
       "    }\n",
       "\n",
       "    .dataframe tbody tr th {\n",
       "        vertical-align: top;\n",
       "    }\n",
       "\n",
       "    .dataframe thead th {\n",
       "        text-align: right;\n",
       "    }\n",
       "</style>\n",
       "<table border=\"1\" class=\"dataframe\">\n",
       "  <thead>\n",
       "    <tr style=\"text-align: right;\">\n",
       "      <th></th>\n",
       "      <th>HEAD</th>\n",
       "      <th>FPGA</th>\n",
       "      <th>TDC_CHANNEL</th>\n",
       "      <th>ORBIT_CNT</th>\n",
       "      <th>BX_COUNTER</th>\n",
       "      <th>TDC_MEAS</th>\n",
       "      <th>TIME</th>\n",
       "    </tr>\n",
       "  </thead>\n",
       "  <tbody>\n",
       "    <tr>\n",
       "      <th>count</th>\n",
       "      <td>1.310720e+06</td>\n",
       "      <td>1.310720e+06</td>\n",
       "      <td>1.310720e+06</td>\n",
       "      <td>1.310720e+06</td>\n",
       "      <td>1.310720e+06</td>\n",
       "      <td>1.310720e+06</td>\n",
       "      <td>1.310720e+06</td>\n",
       "    </tr>\n",
       "    <tr>\n",
       "      <th>mean</th>\n",
       "      <td>4.990532e-01</td>\n",
       "      <td>2.959198e-01</td>\n",
       "      <td>5.582570e+01</td>\n",
       "      <td>3.869206e+09</td>\n",
       "      <td>1.781096e+03</td>\n",
       "      <td>1.332340e+01</td>\n",
       "      <td>1.378985e+13</td>\n",
       "    </tr>\n",
       "    <tr>\n",
       "      <th>std</th>\n",
       "      <td>4.999993e-01</td>\n",
       "      <td>4.564553e-01</td>\n",
       "      <td>3.901034e+01</td>\n",
       "      <td>3.183124e+03</td>\n",
       "      <td>1.027795e+03</td>\n",
       "      <td>9.199886e+00</td>\n",
       "      <td>1.134448e+07</td>\n",
       "    </tr>\n",
       "    <tr>\n",
       "      <th>min</th>\n",
       "      <td>0.000000e+00</td>\n",
       "      <td>0.000000e+00</td>\n",
       "      <td>1.000000e+00</td>\n",
       "      <td>3.869200e+09</td>\n",
       "      <td>0.000000e+00</td>\n",
       "      <td>0.000000e+00</td>\n",
       "      <td>1.378983e+13</td>\n",
       "    </tr>\n",
       "    <tr>\n",
       "      <th>25%</th>\n",
       "      <td>0.000000e+00</td>\n",
       "      <td>0.000000e+00</td>\n",
       "      <td>2.600000e+01</td>\n",
       "      <td>3.869203e+09</td>\n",
       "      <td>8.930000e+02</td>\n",
       "      <td>5.000000e+00</td>\n",
       "      <td>1.378984e+13</td>\n",
       "    </tr>\n",
       "    <tr>\n",
       "      <th>50%</th>\n",
       "      <td>0.000000e+00</td>\n",
       "      <td>0.000000e+00</td>\n",
       "      <td>5.700000e+01</td>\n",
       "      <td>3.869207e+09</td>\n",
       "      <td>1.778000e+03</td>\n",
       "      <td>1.300000e+01</td>\n",
       "      <td>1.378985e+13</td>\n",
       "    </tr>\n",
       "    <tr>\n",
       "      <th>75%</th>\n",
       "      <td>1.000000e+00</td>\n",
       "      <td>1.000000e+00</td>\n",
       "      <td>6.400000e+01</td>\n",
       "      <td>3.869209e+09</td>\n",
       "      <td>2.670000e+03</td>\n",
       "      <td>2.100000e+01</td>\n",
       "      <td>1.378986e+13</td>\n",
       "    </tr>\n",
       "    <tr>\n",
       "      <th>max</th>\n",
       "      <td>1.000000e+00</td>\n",
       "      <td>1.000000e+00</td>\n",
       "      <td>1.390000e+02</td>\n",
       "      <td>3.869211e+09</td>\n",
       "      <td>3.563000e+03</td>\n",
       "      <td>2.900000e+01</td>\n",
       "      <td>1.378987e+13</td>\n",
       "    </tr>\n",
       "  </tbody>\n",
       "</table>\n",
       "</div>"
      ],
      "text/plain": [
       "               HEAD          FPGA   TDC_CHANNEL     ORBIT_CNT    BX_COUNTER  \\\n",
       "count  1.310720e+06  1.310720e+06  1.310720e+06  1.310720e+06  1.310720e+06   \n",
       "mean   4.990532e-01  2.959198e-01  5.582570e+01  3.869206e+09  1.781096e+03   \n",
       "std    4.999993e-01  4.564553e-01  3.901034e+01  3.183124e+03  1.027795e+03   \n",
       "min    0.000000e+00  0.000000e+00  1.000000e+00  3.869200e+09  0.000000e+00   \n",
       "25%    0.000000e+00  0.000000e+00  2.600000e+01  3.869203e+09  8.930000e+02   \n",
       "50%    0.000000e+00  0.000000e+00  5.700000e+01  3.869207e+09  1.778000e+03   \n",
       "75%    1.000000e+00  1.000000e+00  6.400000e+01  3.869209e+09  2.670000e+03   \n",
       "max    1.000000e+00  1.000000e+00  1.390000e+02  3.869211e+09  3.563000e+03   \n",
       "\n",
       "           TDC_MEAS          TIME  \n",
       "count  1.310720e+06  1.310720e+06  \n",
       "mean   1.332340e+01  1.378985e+13  \n",
       "std    9.199886e+00  1.134448e+07  \n",
       "min    0.000000e+00  1.378983e+13  \n",
       "25%    5.000000e+00  1.378984e+13  \n",
       "50%    1.300000e+01  1.378985e+13  \n",
       "75%    2.100000e+01  1.378986e+13  \n",
       "max    2.900000e+01  1.378987e+13  "
      ]
     },
     "execution_count": 7,
     "metadata": {},
     "output_type": "execute_result"
    }
   ],
   "source": [
    "df.HEAD = np.random.randint(0, 2, size=len(df.HEAD))\n",
    "df.describe()"
   ]
  },
  {
   "cell_type": "markdown",
   "metadata": {},
   "source": [
    "6\\. Create a new DataFrame that contains only the rows with HEAD=1."
   ]
  },
  {
   "cell_type": "code",
   "execution_count": 8,
   "metadata": {},
   "outputs": [
    {
     "data": {
      "text/html": [
       "<div>\n",
       "<style scoped>\n",
       "    .dataframe tbody tr th:only-of-type {\n",
       "        vertical-align: middle;\n",
       "    }\n",
       "\n",
       "    .dataframe tbody tr th {\n",
       "        vertical-align: top;\n",
       "    }\n",
       "\n",
       "    .dataframe thead th {\n",
       "        text-align: right;\n",
       "    }\n",
       "</style>\n",
       "<table border=\"1\" class=\"dataframe\">\n",
       "  <thead>\n",
       "    <tr style=\"text-align: right;\">\n",
       "      <th></th>\n",
       "      <th>HEAD</th>\n",
       "      <th>FPGA</th>\n",
       "      <th>TDC_CHANNEL</th>\n",
       "      <th>ORBIT_CNT</th>\n",
       "      <th>BX_COUNTER</th>\n",
       "      <th>TDC_MEAS</th>\n",
       "      <th>TIME</th>\n",
       "    </tr>\n",
       "  </thead>\n",
       "  <tbody>\n",
       "    <tr>\n",
       "      <th>count</th>\n",
       "      <td>654119.0</td>\n",
       "      <td>654119.000000</td>\n",
       "      <td>654119.000000</td>\n",
       "      <td>6.541190e+05</td>\n",
       "      <td>654119.000000</td>\n",
       "      <td>654119.000000</td>\n",
       "      <td>6.541190e+05</td>\n",
       "    </tr>\n",
       "    <tr>\n",
       "      <th>mean</th>\n",
       "      <td>1.0</td>\n",
       "      <td>0.296619</td>\n",
       "      <td>55.760090</td>\n",
       "      <td>3.869206e+09</td>\n",
       "      <td>1779.952571</td>\n",
       "      <td>13.326136</td>\n",
       "      <td>1.378985e+13</td>\n",
       "    </tr>\n",
       "    <tr>\n",
       "      <th>std</th>\n",
       "      <td>0.0</td>\n",
       "      <td>0.456767</td>\n",
       "      <td>39.017201</td>\n",
       "      <td>3.182234e+03</td>\n",
       "      <td>1027.891586</td>\n",
       "      <td>9.201298</td>\n",
       "      <td>1.134131e+07</td>\n",
       "    </tr>\n",
       "    <tr>\n",
       "      <th>min</th>\n",
       "      <td>1.0</td>\n",
       "      <td>0.000000</td>\n",
       "      <td>1.000000</td>\n",
       "      <td>3.869200e+09</td>\n",
       "      <td>0.000000</td>\n",
       "      <td>0.000000</td>\n",
       "      <td>1.378983e+13</td>\n",
       "    </tr>\n",
       "    <tr>\n",
       "      <th>25%</th>\n",
       "      <td>1.0</td>\n",
       "      <td>0.000000</td>\n",
       "      <td>25.000000</td>\n",
       "      <td>3.869203e+09</td>\n",
       "      <td>892.000000</td>\n",
       "      <td>5.000000</td>\n",
       "      <td>1.378984e+13</td>\n",
       "    </tr>\n",
       "    <tr>\n",
       "      <th>50%</th>\n",
       "      <td>1.0</td>\n",
       "      <td>0.000000</td>\n",
       "      <td>57.000000</td>\n",
       "      <td>3.869207e+09</td>\n",
       "      <td>1777.000000</td>\n",
       "      <td>13.000000</td>\n",
       "      <td>1.378985e+13</td>\n",
       "    </tr>\n",
       "    <tr>\n",
       "      <th>75%</th>\n",
       "      <td>1.0</td>\n",
       "      <td>1.000000</td>\n",
       "      <td>64.000000</td>\n",
       "      <td>3.869209e+09</td>\n",
       "      <td>2669.000000</td>\n",
       "      <td>21.000000</td>\n",
       "      <td>1.378986e+13</td>\n",
       "    </tr>\n",
       "    <tr>\n",
       "      <th>max</th>\n",
       "      <td>1.0</td>\n",
       "      <td>1.000000</td>\n",
       "      <td>139.000000</td>\n",
       "      <td>3.869211e+09</td>\n",
       "      <td>3563.000000</td>\n",
       "      <td>29.000000</td>\n",
       "      <td>1.378987e+13</td>\n",
       "    </tr>\n",
       "  </tbody>\n",
       "</table>\n",
       "</div>"
      ],
      "text/plain": [
       "           HEAD           FPGA    TDC_CHANNEL     ORBIT_CNT     BX_COUNTER  \\\n",
       "count  654119.0  654119.000000  654119.000000  6.541190e+05  654119.000000   \n",
       "mean        1.0       0.296619      55.760090  3.869206e+09    1779.952571   \n",
       "std         0.0       0.456767      39.017201  3.182234e+03    1027.891586   \n",
       "min         1.0       0.000000       1.000000  3.869200e+09       0.000000   \n",
       "25%         1.0       0.000000      25.000000  3.869203e+09     892.000000   \n",
       "50%         1.0       0.000000      57.000000  3.869207e+09    1777.000000   \n",
       "75%         1.0       1.000000      64.000000  3.869209e+09    2669.000000   \n",
       "max         1.0       1.000000     139.000000  3.869211e+09    3563.000000   \n",
       "\n",
       "            TDC_MEAS          TIME  \n",
       "count  654119.000000  6.541190e+05  \n",
       "mean       13.326136  1.378985e+13  \n",
       "std         9.201298  1.134131e+07  \n",
       "min         0.000000  1.378983e+13  \n",
       "25%         5.000000  1.378984e+13  \n",
       "50%        13.000000  1.378985e+13  \n",
       "75%        21.000000  1.378986e+13  \n",
       "max        29.000000  1.378987e+13  "
      ]
     },
     "execution_count": 8,
     "metadata": {},
     "output_type": "execute_result"
    }
   ],
   "source": [
    "df2 =df.groupby('HEAD').get_group(1)\n",
    "df2.describe()"
   ]
  },
  {
   "cell_type": "markdown",
   "metadata": {},
   "source": [
    "7\\. Make two occupancy plots (one for each FPGA), i.e. plot the number of counts per TDC channel"
   ]
  },
  {
   "cell_type": "code",
   "execution_count": 9,
   "metadata": {},
   "outputs": [],
   "source": [
    "import matplotlib.pyplot as plt"
   ]
  },
  {
   "cell_type": "code",
   "execution_count": 32,
   "metadata": {},
   "outputs": [
    {
     "data": {
      "text/plain": [
       "<AxesSubplot:>"
      ]
     },
     "execution_count": 32,
     "metadata": {},
     "output_type": "execute_result"
    },
    {
     "data": {
      "image/png": "[encoded data removed]",
      "text/plain": [
       "<Figure size 432x288 with 1 Axes>"
      ]
     },
     "metadata": {
      "needs_background": "light"
     },
     "output_type": "display_data"
    }
   ],
   "source": [
    "fpga0 = df2[df2.FPGA==0]\n",
    "fpga0['TDC_CHANNEL'].hist(bins=139)"
   ]
  },
  {
   "cell_type": "code",
   "execution_count": 34,
   "metadata": {},
   "outputs": [
    {
     "data": {
      "text/plain": [
       "<AxesSubplot:>"
      ]
     },
     "execution_count": 34,
     "metadata": {},
     "output_type": "execute_result"
    },
    {
     "data": {
      "image/png": "[encoded data removed]",
      "text/plain": [
       "<Figure size 432x288 with 1 Axes>"
      ]
     },
     "metadata": {
      "needs_background": "light"
     },
     "output_type": "display_data"
    }
   ],
   "source": [
    "fpga1 = df2[df2.FPGA==1]\n",
    "fpga1['TDC_CHANNEL'].hist(bins=139)"
   ]
  },
  {
   "cell_type": "markdown",
   "metadata": {},
   "source": [
    "8\\. Use the groupby method to find out the noisy channels, i.e. the TDC channels with most counts (say the top 3)"
   ]
  },
  {
   "cell_type": "code",
   "execution_count": 38,
   "metadata": {},
   "outputs": [
    {
     "data": {
      "text/html": [
       "<div>\n",
       "<style scoped>\n",
       "    .dataframe tbody tr th:only-of-type {\n",
       "        vertical-align: middle;\n",
       "    }\n",
       "\n",
       "    .dataframe tbody tr th {\n",
       "        vertical-align: top;\n",
       "    }\n",
       "\n",
       "    .dataframe thead th {\n",
       "        text-align: right;\n",
       "    }\n",
       "</style>\n",
       "<table border=\"1\" class=\"dataframe\">\n",
       "  <thead>\n",
       "    <tr style=\"text-align: right;\">\n",
       "      <th></th>\n",
       "      <th>HEAD</th>\n",
       "      <th>FPGA</th>\n",
       "      <th>ORBIT_CNT</th>\n",
       "      <th>BX_COUNTER</th>\n",
       "      <th>TDC_MEAS</th>\n",
       "      <th>TIME</th>\n",
       "    </tr>\n",
       "    <tr>\n",
       "      <th>TDC_CHANNEL</th>\n",
       "      <th></th>\n",
       "      <th></th>\n",
       "      <th></th>\n",
       "      <th></th>\n",
       "      <th></th>\n",
       "      <th></th>\n",
       "    </tr>\n",
       "  </thead>\n",
       "  <tbody>\n",
       "    <tr>\n",
       "      <th>1</th>\n",
       "      <td>1</td>\n",
       "      <td>0</td>\n",
       "      <td>3869211166</td>\n",
       "      <td>3556</td>\n",
       "      <td>29</td>\n",
       "      <td>1.378987e+13</td>\n",
       "    </tr>\n",
       "    <tr>\n",
       "      <th>2</th>\n",
       "      <td>1</td>\n",
       "      <td>0</td>\n",
       "      <td>3869211162</td>\n",
       "      <td>3560</td>\n",
       "      <td>29</td>\n",
       "      <td>1.378987e+13</td>\n",
       "    </tr>\n",
       "    <tr>\n",
       "      <th>3</th>\n",
       "      <td>1</td>\n",
       "      <td>0</td>\n",
       "      <td>3869211166</td>\n",
       "      <td>3560</td>\n",
       "      <td>29</td>\n",
       "      <td>1.378987e+13</td>\n",
       "    </tr>\n",
       "    <tr>\n",
       "      <th>4</th>\n",
       "      <td>1</td>\n",
       "      <td>0</td>\n",
       "      <td>3869211162</td>\n",
       "      <td>3559</td>\n",
       "      <td>29</td>\n",
       "      <td>1.378987e+13</td>\n",
       "    </tr>\n",
       "    <tr>\n",
       "      <th>5</th>\n",
       "      <td>1</td>\n",
       "      <td>0</td>\n",
       "      <td>3869211165</td>\n",
       "      <td>3562</td>\n",
       "      <td>29</td>\n",
       "      <td>1.378987e+13</td>\n",
       "    </tr>\n",
       "    <tr>\n",
       "      <th>...</th>\n",
       "      <td>...</td>\n",
       "      <td>...</td>\n",
       "      <td>...</td>\n",
       "      <td>...</td>\n",
       "      <td>...</td>\n",
       "      <td>...</td>\n",
       "    </tr>\n",
       "    <tr>\n",
       "      <th>124</th>\n",
       "      <td>1</td>\n",
       "      <td>0</td>\n",
       "      <td>3869211169</td>\n",
       "      <td>3563</td>\n",
       "      <td>29</td>\n",
       "      <td>1.378987e+13</td>\n",
       "    </tr>\n",
       "    <tr>\n",
       "      <th>130</th>\n",
       "      <td>1</td>\n",
       "      <td>0</td>\n",
       "      <td>3869211154</td>\n",
       "      <td>3273</td>\n",
       "      <td>28</td>\n",
       "      <td>1.378987e+13</td>\n",
       "    </tr>\n",
       "    <tr>\n",
       "      <th>137</th>\n",
       "      <td>1</td>\n",
       "      <td>0</td>\n",
       "      <td>3869210440</td>\n",
       "      <td>3535</td>\n",
       "      <td>15</td>\n",
       "      <td>1.378987e+13</td>\n",
       "    </tr>\n",
       "    <tr>\n",
       "      <th>138</th>\n",
       "      <td>1</td>\n",
       "      <td>0</td>\n",
       "      <td>3869210926</td>\n",
       "      <td>3162</td>\n",
       "      <td>9</td>\n",
       "      <td>1.378987e+13</td>\n",
       "    </tr>\n",
       "    <tr>\n",
       "      <th>139</th>\n",
       "      <td>1</td>\n",
       "      <td>0</td>\n",
       "      <td>3869211171</td>\n",
       "      <td>3563</td>\n",
       "      <td>0</td>\n",
       "      <td>1.378987e+13</td>\n",
       "    </tr>\n",
       "  </tbody>\n",
       "</table>\n",
       "<p>122 rows × 6 columns</p>\n",
       "</div>"
      ],
      "text/plain": [
       "             HEAD  FPGA   ORBIT_CNT  BX_COUNTER  TDC_MEAS          TIME\n",
       "TDC_CHANNEL                                                            \n",
       "1               1     0  3869211166        3556        29  1.378987e+13\n",
       "2               1     0  3869211162        3560        29  1.378987e+13\n",
       "3               1     0  3869211166        3560        29  1.378987e+13\n",
       "4               1     0  3869211162        3559        29  1.378987e+13\n",
       "5               1     0  3869211165        3562        29  1.378987e+13\n",
       "...           ...   ...         ...         ...       ...           ...\n",
       "124             1     0  3869211169        3563        29  1.378987e+13\n",
       "130             1     0  3869211154        3273        28  1.378987e+13\n",
       "137             1     0  3869210440        3535        15  1.378987e+13\n",
       "138             1     0  3869210926        3162         9  1.378987e+13\n",
       "139             1     0  3869211171        3563         0  1.378987e+13\n",
       "\n",
       "[122 rows x 6 columns]"
      ]
     },
     "execution_count": 38,
     "metadata": {},
     "output_type": "execute_result"
    }
   ],
   "source": [
    "fpga0.groupby('TDC_CHANNEL').max()"
   ]
  },
  {
   "cell_type": "code",
   "execution_count": 52,
   "metadata": {},
   "outputs": [
    {
     "name": "stdout",
     "output_type": "stream",
     "text": [
      "TDC_CHANNEL\n",
      "63     31532\n",
      "64     32034\n",
      "139    37683\n",
      "dtype: int64\n",
      "TDC_CHANNEL\n",
      "1      14109\n",
      "139    16238\n",
      "2      16344\n",
      "dtype: int64\n"
     ]
    }
   ],
   "source": [
    "noise0=fpga0.groupby('TDC_CHANNEL').size().sort_values()[-3:]\n",
    "noise1=fpga1.groupby('TDC_CHANNEL').size().sort_values()[-3:]\n",
    "\n",
    "print(noise0)\n",
    "print(noise1)"
   ]
  },
  {
   "cell_type": "markdown",
   "metadata": {},
   "source": [
    "9\\. Count the number of unique orbits. Count the number of unique orbits with at least one measurement from TDC_CHANNEL=139"
   ]
  },
  {
   "cell_type": "code",
   "execution_count": 58,
   "metadata": {},
   "outputs": [
    {
     "data": {
      "text/plain": [
       "10998"
      ]
     },
     "execution_count": 58,
     "metadata": {},
     "output_type": "execute_result"
    }
   ],
   "source": [
    "df2.groupby('ORBIT_CNT').ngroups"
   ]
  },
  {
   "cell_type": "code",
   "execution_count": 60,
   "metadata": {},
   "outputs": [
    {
     "data": {
      "text/plain": [
       "10830"
      ]
     },
     "execution_count": 60,
     "metadata": {},
     "output_type": "execute_result"
    }
   ],
   "source": [
    "df2[df2['TDC_CHANNEL']==139].groupby('ORBIT_CNT').ngroups"
   ]
  }
 ],
 "metadata": {
  "kernelspec": {
   "display_name": "Python 3",
   "language": "python",
   "name": "python3"
  },
  "language_info": {
   "codemirror_mode": {
    "name": "ipython",
    "version": 3
   },
   "file_extension": ".py",
   "mimetype": "text/x-python",
   "name": "python",
   "nbconvert_exporter": "python",
   "pygments_lexer": "ipython3",
   "version": "3.8.8"
  }
 },
 "nbformat": 4,
 "nbformat_minor": 4
}
