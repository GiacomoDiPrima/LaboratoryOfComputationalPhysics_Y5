{
 "cells": [
  {
   "cell_type": "markdown",
   "metadata": {},
   "source": [
    "1. The MickeyMouse problem\n",
    "\n",
    "a) Write a program that prints the numbers from 1 to 100. But for multiples of 3 print `Mickey` instead of the corresponding number and for the multiples of 5 print `Mouse`. For numbers which are multiples of both three and five print `MickeyMouse`\n",
    "\n",
    "b) Put the result in a tuple and substitute `Mickey` with `Donald` and `Mouse` with `Duck`"
   ]
  },
  {
   "cell_type": "markdown",
   "metadata": {},
   "source": [
    "2\\. The swap function\n",
    "\n",
    "Write a function that swap the values of two input variables x and y (whatever the type). Try to do that also without a temporary variable"
   ]
  },
  {
   "cell_type": "markdown",
   "metadata": {},
   "source": [
    "3\\. Computing the distance\n",
    "\n",
    "Write a function that calculates and returns the euclidean distance between two points *u* and *v*, where *u* and *v* are both 2-tuples *(x,y)*. For example, if *u=(3,0)* and *v=(0,4)*, the function should return 5"
   ]
  },
  {
   "cell_type": "markdown",
   "metadata": {},
   "source": [
    "4\\. Counting letters\n",
    "\n",
    "Write a program to calculate the number of times each character occurs in a given string *s*. Ignore differneces in capitalization"
   ]
  },
  {
   "cell_type": "code",
   "execution_count": 48,
   "metadata": {},
   "outputs": [],
   "source": [
    "s=\"Write a program that prints the numbers from 1 to 100. \\\n",
    "But for multiples of three print Mickey instead of the number and for the multiples of five print Mouse. \\\n",
    "For numbers which are multiples of both three and five print MickeyMouse\""
   ]
  },
  {
   "cell_type": "markdown",
   "metadata": {},
   "source": [
    "5\\. Isolating the unique\n",
    "\n",
    "Write a function that determines and count the unique numbers in the list *l*"
   ]
  },
  {
   "cell_type": "code",
   "execution_count": null,
   "metadata": {},
   "outputs": [],
   "source": [
    "l = [36, 45, 58, 3, 74, 96, 64, 45, 31, 10, 24, 19, 33, 86, 99, 18, 63, 70, 85,\n",
    " 85, 63, 47, 56, 42, 70, 84, 88, 55, 20, 54, 8, 56, 51, 79, 81, 57, 37, 91,\n",
    " 1, 84, 84, 36, 66, 9, 89, 50, 42, 91, 50, 95, 90, 98, 39, 16, 82, 31, 92, 41,\n",
    " 45, 30, 66, 70, 34, 85, 94, 5, 3, 36, 72, 91, 84, 34, 87, 75, 53, 51, 20, 89, 51, 20]"
   ]
  },
  {
   "cell_type": "markdown",
   "metadata": {},
   "source": [
    "6\\. Combination of functions\n",
    "\n",
    "Write two functions - one that returns the square of a number, and one that returns the cube. Now write a third function that returns the number raised to the 6th power using the two previous functions."
   ]
  },
  {
   "cell_type": "markdown",
   "metadata": {},
   "source": [
    "7\\. Cubes\n",
    "\n",
    "Create a list of the cubes of x for x in *[0, 10]* using:\n",
    "\n",
    "a) a for loop\n",
    "\n",
    "b) a list comprehension"
   ]
  },
  {
   "cell_type": "markdown",
   "metadata": {},
   "source": [
    "8\\. Nested list comprehension\n",
    "\n",
    "A Pythagorean triple is an integer solution to the Pythagorean theorem $a^2+b^2=c^2$. The first Pythagorean triple is (3,4,5). Find and put in a tuple all unique Pythagorean triples for the positive integers a, b and c less than 100."
   ]
  },
  {
   "cell_type": "markdown",
   "metadata": {},
   "source": [
    "9\\. Normalization\n",
    "\n",
    "Write a function that takes a tuple of numbers and returns it with the entries normalized to one"
   ]
  },
  {
   "cell_type": "code",
   "execution_count": 39,
   "metadata": {
    "tags": []
   },
   "outputs": [
    {
     "name": "stdout",
     "output_type": "stream",
     "text": [
      "[1, 2, 'Donald', 4, 'Duck', 'Donald', 7, 8, 'Donald', 'Duck', 11, 'Donald', 13, 14, 'MickeyMouse', 16, 17, 'Donald', 19, 'Duck', 'Donald', 22, 23, 'Donald', 'Duck', 26, 'Donald', 28, 29, 'MickeyMouse', 31, 32, 'Donald', 34, 'Duck', 'Donald', 37, 38, 'Donald', 'Duck', 41, 'Donald', 43, 44, 'MickeyMouse', 46, 47, 'Donald', 49, 'Duck', 'Donald', 52, 53, 'Donald', 'Duck', 56, 'Donald', 58, 59, 'MickeyMouse', 61, 62, 'Donald', 64, 'Duck', 'Donald', 67, 68, 'Donald', 'Duck', 71, 'Donald', 73, 74, 'MickeyMouse', 76, 77, 'Donald', 79, 'Duck', 'Donald', 82, 83, 'Donald', 'Duck', 86, 'Donald', 88, 89, 'MickeyMouse', 91, 92, 'Donald', 94, 'Duck', 'Donald', 97, 98, 'Donald', 'Duck']\n"
     ]
    }
   ],
   "source": [
    "#1 a\n",
    "a=[]\n",
    "for i in range(1, 101):\n",
    "    if i%3 == 0 and i%5 != 0:\n",
    "        #print('Mickey')\n",
    "        a.append('Mickey')\n",
    "        \n",
    "    elif i%5 == 0 and i%3 != 0:\n",
    "        #print('Mouse')\n",
    "        a.append('Mouse')\n",
    "        \n",
    "    elif i%3 == 0 and i%5 == 0:\n",
    "        #print('MickeyMouse')\n",
    "        a.append('MickeyMouse')\n",
    "        \n",
    "    else:\n",
    "        #print(i)\n",
    "        a.append(i)\n",
    "        \n",
    "#1 b\n",
    "for k, j in zip(a,range(0, 100)):\n",
    "    \n",
    "    if k == 'Mickey':\n",
    "        a[j] = 'Donald'\n",
    "    if k == 'Mouse':\n",
    "        a[j] = 'Duck'\n",
    "print(a)"
   ]
  },
  {
   "cell_type": "code",
   "execution_count": 2,
   "metadata": {},
   "outputs": [
    {
     "name": "stdout",
     "output_type": "stream",
     "text": [
      "[1, 2, 'Mickey', 3, 4, 'Mouse', 'Mickey', 6, 7, 8, 'Mickey', 9, 'Mouse', 11, 'Mickey', 12, 13, 14, 'Mickey', 'Mouse', 16, 17, 'Mickey', 18, 19, 'Mouse', 'Mickey', 21, 22, 23, 'Mickey', 24, 'Mouse', 26, 'Mickey', 27, 28, 29, 'Mickey', 'Mouse', 31, 32, 'Mickey', 33, 34, 'Mouse', 'Mickey', 36, 37, 38, 'Mickey', 39, 'Mouse', 41, 'Mickey', 42, 43, 44, 'Mickey', 'Mouse', 46, 47, 'Mickey', 48, 49, 'Mouse', 'Mickey', 51, 52, 53, 'Mickey', 54, 'Mouse', 56, 'Mickey', 57, 58, 59, 'Mickey', 'Mouse', 61, 62, 'Mickey', 63, 64, 'Mouse', 'Mickey', 66, 67, 68, 'Mickey', 69, 'Mouse', 71, 'Mickey', 72, 73, 74, 'Mickey', 'Mouse', 76, 77, 'Mickey', 78, 79, 'Mouse', 'Mickey', 81, 82, 83, 'Mickey', 84, 'Mouse', 86, 'Mickey', 87, 88, 89, 'Mickey', 'Mouse', 91, 92, 'Mickey', 93, 94, 'Mouse', 'Mickey', 96, 97, 98, 'Mickey', 99, 'Mouse']\n"
     ]
    }
   ],
   "source": [
    "a = []\n",
    "for i in range(1, 101):\n",
    "    if i%3==0: a.append('Mickey')\n",
    "    if i%5==0: a.append('Mouse')\n",
    "    else: a.append(i)\n",
    "print(a)"
   ]
  },
  {
   "cell_type": "code",
   "execution_count": 41,
   "metadata": {
    "tags": []
   },
   "outputs": [
    {
     "name": "stdin",
     "output_type": "stream",
     "text": [
      "Inserire x 1\n",
      "inserire y 5\n"
     ]
    },
    {
     "name": "stdout",
     "output_type": "stream",
     "text": [
      "x  = 5, y = 1\n"
     ]
    }
   ],
   "source": [
    "#2\n",
    "def swap(x, y):\n",
    "    return y, x\n",
    "\n",
    "x = input('Inserire x')\n",
    "y = input('inserire y')\n",
    "\n",
    "x, y = swap(x, y)\n",
    "print(f'x  = {x}, y = {y}')"
   ]
  },
  {
   "cell_type": "code",
   "execution_count": 47,
   "metadata": {
    "tags": []
   },
   "outputs": [
    {
     "name": "stdout",
     "output_type": "stream",
     "text": [
      "5.0\n"
     ]
    }
   ],
   "source": [
    "#3\n",
    "import numpy as np\n",
    "def distance(A, B):\n",
    "    return np.sqrt((A[0]-B[0])**2 + (A[1]-B[1])**2)\n",
    "\n",
    "print(distance((3, 0), (0, 4)))"
   ]
  },
  {
   "cell_type": "code",
   "execution_count": 35,
   "metadata": {
    "tags": []
   },
   "outputs": [
    {
     "name": "stdout",
     "output_type": "stream",
     "text": [
      "item \"c\" = 3\n",
      "item \"l\" = 6\n",
      "item \"r\" = 17\n",
      "item \"f\" = 10\n",
      "item \"o\" = 13\n",
      "item \"0\" = 2\n",
      "item \"n\" = 10\n",
      "item \"k\" = 2\n",
      "item \".\" = 2\n",
      "item \"d\" = 3\n",
      "item \"1\" = 2\n",
      "item \"p\" = 8\n",
      "item \"u\" = 9\n",
      "item \"e\" = 22\n",
      "item \"y\" = 2\n",
      "item \"g\" = 1\n",
      "item \"w\" = 2\n",
      "item \"s\" = 9\n",
      "item \"v\" = 2\n",
      "item \"b\" = 5\n",
      "item \"t\" = 19\n",
      "item \"i\" = 14\n",
      "item \"m\" = 12\n",
      "item \"h\" = 9\n",
      "item \" \" = 41\n",
      "item \"a\" = 7\n"
     ]
    }
   ],
   "source": [
    "#4\n",
    "s=\"Write a program that prints the numbers from 1 to 100. \\\n",
    "But for multiples of three print Mickey instead of the number and for the multiples of five print Mouse. \\\n",
    "For numbers which are multiples of both three and five print MickeyMouse\"\n",
    "s = s.lower()\n",
    "character={\" \"}\n",
    "for alpha in s:\n",
    "    character.add(alpha)\n",
    "\n",
    "\n",
    "for beta in character:\n",
    "    counter = 0  \n",
    "    \n",
    "    for alpha in s:\n",
    "        if beta==alpha:\n",
    "            counter +=1\n",
    "    print(f'item \"{beta}\" = {counter}')\n",
    "    "
   ]
  },
  {
   "cell_type": "code",
   "execution_count": 9,
   "metadata": {
    "tags": []
   },
   "outputs": [
    {
     "name": "stdout",
     "output_type": "stream",
     "text": [
      "[1, 5, 8, 9, 10, 16, 18, 19, 24, 30, 33, 37, 39, 41, 47, 53, 54, 55, 57, 58, 64, 72, 74, 75, 79, 81, 82, 86, 87, 88, 90, 92, 94, 95, 96, 98, 99]\n",
      "37\n"
     ]
    }
   ],
   "source": [
    "#5\n",
    "l = [36, 45, 58, 3, 74, 96, 64, 45, 31, 10, 24, 19, 33, 86, 99, 18, 63, 70, 85,\n",
    " 85, 63, 47, 56, 42, 70, 84, 88, 55, 20, 54, 8, 56, 51, 79, 81, 57, 37, 91,\n",
    " 1, 84, 84, 36, 66, 9, 89, 50, 42, 91, 50, 95, 90, 98, 39, 16, 82, 31, 92, 41,\n",
    " 45, 30, 66, 70, 34, 85, 94, 5, 3, 36, 72, 91, 84, 34, 87, 75, 53, 51, 20, 89, 51, 20]\n",
    "\n",
    "unique=[]\n",
    "\n",
    "for x in set(l):\n",
    "    if l.count(x)==1: unique.append(x)\n",
    "    \n",
    "print(unique)\n",
    "print(len(unique))\n",
    "    "
   ]
  },
  {
   "cell_type": "code",
   "execution_count": 43,
   "metadata": {
    "collapsed": true,
    "jupyter": {
     "outputs_hidden": true
    },
    "tags": []
   },
   "outputs": [
    {
     "name": "stdout",
     "output_type": "stream",
     "text": [
      "64\n"
     ]
    }
   ],
   "source": [
    "#6\n",
    "def square(x):\n",
    "    return x**2\n",
    "\n",
    "def cube(x):\n",
    "    return x**3\n",
    "\n",
    "def sixth(x):\n",
    "    return square(cube(x))\n",
    "\n",
    "print(sixth(2))\n"
   ]
  },
  {
   "cell_type": "code",
   "execution_count": 46,
   "metadata": {
    "tags": []
   },
   "outputs": [
    {
     "name": "stdout",
     "output_type": "stream",
     "text": [
      "[0, 1, 8, 27, 64, 125, 216, 343, 512, 729, 1000]\n",
      "[0, 1, 8, 27, 64, 125, 216, 343, 512, 729, 1000]\n"
     ]
    }
   ],
   "source": [
    "#7a\n",
    "cubes_a =[]\n",
    "for i in range(0, 11):\n",
    "    cubes_a.append(i**3)\n",
    "print(cubes_a)\n",
    "\n",
    "#7b\n",
    "cubes_b =[x**3 for x in range(11)]\n",
    "print(cubes_b)"
   ]
  },
  {
   "cell_type": "code",
   "execution_count": 3,
   "metadata": {},
   "outputs": [
    {
     "name": "stdout",
     "output_type": "stream",
     "text": [
      "[(3, 4, 5), (6, 8, 10), (5, 12, 13), (9, 12, 15), (8, 15, 17), (12, 16, 20), (7, 24, 25), (15, 20, 25), (10, 24, 26), (20, 21, 29), (18, 24, 30), (16, 30, 34), (21, 28, 35), (12, 35, 37), (15, 36, 39), (24, 32, 40), (9, 40, 41), (27, 36, 45), (14, 48, 50), (30, 40, 50), (24, 45, 51), (20, 48, 52), (28, 45, 53), (33, 44, 55), (40, 42, 58), (36, 48, 60), (11, 60, 61), (16, 63, 65), (25, 60, 65), (33, 56, 65), (39, 52, 65), (32, 60, 68), (42, 56, 70), (48, 55, 73), (24, 70, 74), (21, 72, 75), (45, 60, 75), (30, 72, 78), (48, 64, 80), (18, 80, 82), (13, 84, 85), (36, 77, 85), (40, 75, 85), (51, 68, 85), (60, 63, 87), (39, 80, 89), (54, 72, 90), (35, 84, 91), (57, 76, 95), (65, 72, 97)]\n",
      "50\n"
     ]
    }
   ],
   "source": [
    "#8\n",
    "#num = [[a for a in range(100)], [b for b in range(100)], [c for c in range(100)]]\n",
    "PTriple = [(a, b, c) for c in range(1,100) for a in range(1,100) for b in range(1,100) if (a**2 +b**2 == c**2) and a<=b]\n",
    "print(PTriple)\n",
    "print(len(PTriple))\n",
    "\n"
   ]
  },
  {
   "cell_type": "code",
   "execution_count": 11,
   "metadata": {},
   "outputs": [
    {
     "name": "stdout",
     "output_type": "stream",
     "text": [
      "(0.7071067811865475, 0.7071067811865475)\n",
      "(0.5, 0.5)\n"
     ]
    }
   ],
   "source": [
    "#9\n",
    "def normalization(a):\n",
    "    import math\n",
    "    return tuple([y/math.sqrt(sum([x**2 for x in a]))  for y in a])\n",
    "\n",
    "print(normalization((1,1)))\n",
    "    \n",
    "    \n",
    "def normalization_b(b):\n",
    "    return tuple([y/sum([x for x in b]) for y in b])\n",
    "print(normalization_b((1,1)))"
   ]
  }
 ],
 "metadata": {
  "kernelspec": {
   "display_name": "Python 3",
   "language": "python",
   "name": "python3"
  },
  "language_info": {
   "codemirror_mode": {
    "name": "ipython",
    "version": 3
   },
   "file_extension": ".py",
   "mimetype": "text/x-python",
   "name": "python",
   "nbconvert_exporter": "python",
   "pygments_lexer": "ipython3",
   "version": "3.8.8"
  }
 },
 "nbformat": 4,
 "nbformat_minor": 4
}
